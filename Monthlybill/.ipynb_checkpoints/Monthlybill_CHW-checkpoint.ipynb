{
 "cells": [
  {
   "cell_type": "code",
   "execution_count": 8,
   "id": "4bf7d5ef-b314-4d9c-ae1a-b41d7e1be4d6",
   "metadata": {},
   "outputs": [],
   "source": [
    "import pandas as pd\n",
    "import os\n",
    "import datetime\n",
    "# import regu"
   ]
  },
  {
   "cell_type": "code",
   "execution_count": 14,
   "id": "64c5d783-298e-4301-a515-7b372ba5cc26",
   "metadata": {},
   "outputs": [
    {
     "ename": "SyntaxError",
     "evalue": "invalid syntax (157775294.py, line 1)",
     "output_type": "error",
     "traceback": [
      "\u001b[1;36m  File \u001b[1;32m\"C:\\Users\\hank\\AppData\\Local\\Temp\\ipykernel_7496\\157775294.py\"\u001b[1;36m, line \u001b[1;32m1\u001b[0m\n\u001b[1;33m    current_date = datetime.datetime.now().strftime('%Y%m')'获取当前年月'\u001b[0m\n\u001b[1;37m                                                           ^\u001b[0m\n\u001b[1;31mSyntaxError\u001b[0m\u001b[1;31m:\u001b[0m invalid syntax\n"
     ]
    }
   ],
   "source": [
    "current_date = datetime.datetime.now().strftime('%Y%m')#获取当前年月格式2023xx\n",
    "current_date\n"
   ]
  },
  {
   "cell_type": "code",
   "execution_count": 7,
   "id": "46eab21b-2a3d-4a1b-b79f-39554a203a70",
   "metadata": {},
   "outputs": [
    {
     "name": "stdout",
     "output_type": "stream",
     "text": [
      "['.ipynb_checkpoints', 'CHW RTU_Monthly Report_20230101000749669.xlsx', 'CHW RTU_Monthly Report_20230401000853822.xlsx', 'HW RTU_Monthly Report_20230301001552160.xlsx', 'HW RTU_Monthly Report_20230401001610235.xlsx', 'Monthlybill_CHW.ipynb']\n"
     ]
    }
   ],
   "source": [
    "path1 = r\"C:\\Users\\hank\\PythonCode\\Monthlybill\"\n",
    "f = os.listdir(path1)\n",
    "print(f)"
   ]
  },
  {
   "cell_type": "code",
   "execution_count": null,
   "id": "5249960f-d4c8-4261-a748-8608fe4fbe19",
   "metadata": {},
   "outputs": [],
   "source": []
  },
  {
   "cell_type": "code",
   "execution_count": null,
   "id": "fff48b1f-e468-4c02-9fcb-6bec66d176c1",
   "metadata": {},
   "outputs": [],
   "source": []
  },
  {
   "cell_type": "code",
   "execution_count": null,
   "id": "cc66ce82-199b-41ef-81d2-62146634c0ef",
   "metadata": {},
   "outputs": [],
   "source": []
  },
  {
   "cell_type": "code",
   "execution_count": null,
   "id": "262dc9e2-a2a5-4250-9a71-b0b4a1fbdc44",
   "metadata": {},
   "outputs": [],
   "source": []
  }
 ],
 "metadata": {
  "kernelspec": {
   "display_name": "Python 3 (ipykernel)",
   "language": "python",
   "name": "python3"
  },
  "language_info": {
   "codemirror_mode": {
    "name": "ipython",
    "version": 3
   },
   "file_extension": ".py",
   "mimetype": "text/x-python",
   "name": "python",
   "nbconvert_exporter": "python",
   "pygments_lexer": "ipython3",
   "version": "3.9.13"
  }
 },
 "nbformat": 4,
 "nbformat_minor": 5
}
